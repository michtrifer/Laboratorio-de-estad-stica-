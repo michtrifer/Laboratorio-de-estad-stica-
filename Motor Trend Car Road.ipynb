{
 "cells": [
  {
   "cell_type": "code",
   "execution_count": 55,
   "id": "8289012b",
   "metadata": {},
   "outputs": [],
   "source": [
    "import pandas as pd\n",
    "import numpy as np\n",
    "import matplotlib.pyplot as plt\n",
    "from sklearn.preprocessing import PolynomialFeatures\n",
    "from sklearn.linear_model import LinearRegression\n",
    "from sklearn.metrics import r2_score\n",
    "import statsmodels.api as sm\n",
    "from sklearn.model_selection import train_test_split\n",
    "from sklearn.preprocessing import StandardScaler "
   ]
  },
  {
   "cell_type": "code",
   "execution_count": 56,
   "id": "3c204fe8",
   "metadata": {},
   "outputs": [],
   "source": [
    "df = pd.read_excel(\"Motor Trend Car Road Tests.xlsx\")\n",
    "matriz = df.to_numpy()"
   ]
  },
  {
   "cell_type": "code",
   "execution_count": 57,
   "id": "4d0c0d41",
   "metadata": {},
   "outputs": [],
   "source": [
    "matriz = matriz[:, 1:]\n",
    "X = matriz[:, 1:]\n",
    "y= matriz[:, 0]\n",
    "X = X.astype(float)\n",
    "y= y.astype(float)"
   ]
  },
  {
   "cell_type": "code",
   "execution_count": 58,
   "id": "b3b8ae74",
   "metadata": {},
   "outputs": [],
   "source": [
    "Xtrain, Xtest, ytrain, ytest=train_test_split(X,y,train_size=.4,random_state=137)"
   ]
  },
  {
   "cell_type": "code",
   "execution_count": 59,
   "id": "602a65a8",
   "metadata": {},
   "outputs": [],
   "source": [
    "scaler= StandardScaler().fit(Xtrain)\n",
    "Xscaled=scaler.transform(Xtrain)\n",
    "\n",
    "scaler= StandardScaler().fit(Xtest)\n",
    "Xscaled2=scaler.transform(Xtest)"
   ]
  },
  {
   "cell_type": "code",
   "execution_count": 60,
   "id": "7017c71e",
   "metadata": {},
   "outputs": [],
   "source": [
    "columna_unos = np.ones((Xtrain.shape[0], 1), dtype=int)\n",
    "Xscaled = np.hstack([columna_unos, Xscaled])"
   ]
  },
  {
   "cell_type": "code",
   "execution_count": 61,
   "id": "9ab8a39f",
   "metadata": {},
   "outputs": [
    {
     "name": "stderr",
     "output_type": "stream",
     "text": [
      "C:\\Users\\Michelle Trigo\\anaconda3\\Lib\\site-packages\\scipy\\stats\\_stats_py.py:1736: UserWarning: kurtosistest only valid for n>=20 ... continuing anyway, n=12\n",
      "  warnings.warn(\"kurtosistest only valid for n>=20 ... continuing \"\n"
     ]
    },
    {
     "data": {
      "text/html": [
       "<table class=\"simpletable\">\n",
       "<caption>OLS Regression Results</caption>\n",
       "<tr>\n",
       "  <th>Dep. Variable:</th>            <td>y</td>        <th>  R-squared:         </th> <td>   0.990</td>\n",
       "</tr>\n",
       "<tr>\n",
       "  <th>Model:</th>                   <td>OLS</td>       <th>  Adj. R-squared:    </th> <td>   0.891</td>\n",
       "</tr>\n",
       "<tr>\n",
       "  <th>Method:</th>             <td>Least Squares</td>  <th>  F-statistic:       </th> <td>   9.981</td>\n",
       "</tr>\n",
       "<tr>\n",
       "  <th>Date:</th>             <td>Mon, 08 Sep 2025</td> <th>  Prob (F-statistic):</th>  <td> 0.242</td> \n",
       "</tr>\n",
       "<tr>\n",
       "  <th>Time:</th>                 <td>17:35:28</td>     <th>  Log-Likelihood:    </th> <td> -9.9811</td>\n",
       "</tr>\n",
       "<tr>\n",
       "  <th>No. Observations:</th>      <td>    12</td>      <th>  AIC:               </th> <td>   41.96</td>\n",
       "</tr>\n",
       "<tr>\n",
       "  <th>Df Residuals:</th>          <td>     1</td>      <th>  BIC:               </th> <td>   47.30</td>\n",
       "</tr>\n",
       "<tr>\n",
       "  <th>Df Model:</th>              <td>    10</td>      <th>                     </th>     <td> </td>   \n",
       "</tr>\n",
       "<tr>\n",
       "  <th>Covariance Type:</th>      <td>nonrobust</td>    <th>                     </th>     <td> </td>   \n",
       "</tr>\n",
       "</table>\n",
       "<table class=\"simpletable\">\n",
       "<tr>\n",
       "    <td></td>       <th>coef</th>     <th>std err</th>      <th>t</th>      <th>P>|t|</th>  <th>[0.025</th>    <th>0.975]</th>  \n",
       "</tr>\n",
       "<tr>\n",
       "  <th>const</th> <td>   17.4333</td> <td>    0.556</td> <td>   31.361</td> <td> 0.020</td> <td>   10.370</td> <td>   24.497</td>\n",
       "</tr>\n",
       "<tr>\n",
       "  <th>x1</th>    <td>   40.7571</td> <td>   54.010</td> <td>    0.755</td> <td> 0.588</td> <td> -645.499</td> <td>  727.013</td>\n",
       "</tr>\n",
       "<tr>\n",
       "  <th>x2</th>    <td>   -2.4635</td> <td>    3.021</td> <td>   -0.815</td> <td> 0.565</td> <td>  -40.854</td> <td>   35.927</td>\n",
       "</tr>\n",
       "<tr>\n",
       "  <th>x3</th>    <td>  -10.1581</td> <td>   19.484</td> <td>   -0.521</td> <td> 0.694</td> <td> -257.727</td> <td>  237.411</td>\n",
       "</tr>\n",
       "<tr>\n",
       "  <th>x4</th>    <td>   14.1135</td> <td>   13.469</td> <td>    1.048</td> <td> 0.485</td> <td> -157.022</td> <td>  185.249</td>\n",
       "</tr>\n",
       "<tr>\n",
       "  <th>x5</th>    <td>   -0.8005</td> <td>    3.106</td> <td>   -0.258</td> <td> 0.839</td> <td>  -40.266</td> <td>   38.665</td>\n",
       "</tr>\n",
       "<tr>\n",
       "  <th>x6</th>    <td>    1.5727</td> <td>    3.475</td> <td>    0.453</td> <td> 0.729</td> <td>  -42.583</td> <td>   45.729</td>\n",
       "</tr>\n",
       "<tr>\n",
       "  <th>x7</th>    <td>   32.4926</td> <td>   41.262</td> <td>    0.787</td> <td> 0.575</td> <td> -491.795</td> <td>  556.780</td>\n",
       "</tr>\n",
       "<tr>\n",
       "  <th>x8</th>    <td>   36.1394</td> <td>   42.669</td> <td>    0.847</td> <td> 0.553</td> <td> -506.022</td> <td>  578.301</td>\n",
       "</tr>\n",
       "<tr>\n",
       "  <th>x9</th>    <td>  -38.3551</td> <td>   43.625</td> <td>   -0.879</td> <td> 0.541</td> <td> -592.668</td> <td>  515.958</td>\n",
       "</tr>\n",
       "<tr>\n",
       "  <th>x10</th>   <td>   11.9707</td> <td>   17.482</td> <td>    0.685</td> <td> 0.618</td> <td> -210.157</td> <td>  234.098</td>\n",
       "</tr>\n",
       "</table>\n",
       "<table class=\"simpletable\">\n",
       "<tr>\n",
       "  <th>Omnibus:</th>       <td> 0.259</td> <th>  Durbin-Watson:     </th> <td>   2.354</td>\n",
       "</tr>\n",
       "<tr>\n",
       "  <th>Prob(Omnibus):</th> <td> 0.879</td> <th>  Jarque-Bera (JB):  </th> <td>   0.413</td>\n",
       "</tr>\n",
       "<tr>\n",
       "  <th>Skew:</th>          <td> 0.212</td> <th>  Prob(JB):          </th> <td>   0.813</td>\n",
       "</tr>\n",
       "<tr>\n",
       "  <th>Kurtosis:</th>      <td> 2.196</td> <th>  Cond. No.          </th> <td>    382.</td>\n",
       "</tr>\n",
       "</table><br/><br/>Notes:<br/>[1] Standard Errors assume that the covariance matrix of the errors is correctly specified."
      ],
      "text/latex": [
       "\\begin{center}\n",
       "\\begin{tabular}{lclc}\n",
       "\\toprule\n",
       "\\textbf{Dep. Variable:}    &        y         & \\textbf{  R-squared:         } &     0.990   \\\\\n",
       "\\textbf{Model:}            &       OLS        & \\textbf{  Adj. R-squared:    } &     0.891   \\\\\n",
       "\\textbf{Method:}           &  Least Squares   & \\textbf{  F-statistic:       } &     9.981   \\\\\n",
       "\\textbf{Date:}             & Mon, 08 Sep 2025 & \\textbf{  Prob (F-statistic):} &    0.242    \\\\\n",
       "\\textbf{Time:}             &     17:35:28     & \\textbf{  Log-Likelihood:    } &   -9.9811   \\\\\n",
       "\\textbf{No. Observations:} &          12      & \\textbf{  AIC:               } &     41.96   \\\\\n",
       "\\textbf{Df Residuals:}     &           1      & \\textbf{  BIC:               } &     47.30   \\\\\n",
       "\\textbf{Df Model:}         &          10      & \\textbf{                     } &             \\\\\n",
       "\\textbf{Covariance Type:}  &    nonrobust     & \\textbf{                     } &             \\\\\n",
       "\\bottomrule\n",
       "\\end{tabular}\n",
       "\\begin{tabular}{lcccccc}\n",
       "               & \\textbf{coef} & \\textbf{std err} & \\textbf{t} & \\textbf{P$> |$t$|$} & \\textbf{[0.025} & \\textbf{0.975]}  \\\\\n",
       "\\midrule\n",
       "\\textbf{const} &      17.4333  &        0.556     &    31.361  &         0.020        &       10.370    &       24.497     \\\\\n",
       "\\textbf{x1}    &      40.7571  &       54.010     &     0.755  &         0.588        &     -645.499    &      727.013     \\\\\n",
       "\\textbf{x2}    &      -2.4635  &        3.021     &    -0.815  &         0.565        &      -40.854    &       35.927     \\\\\n",
       "\\textbf{x3}    &     -10.1581  &       19.484     &    -0.521  &         0.694        &     -257.727    &      237.411     \\\\\n",
       "\\textbf{x4}    &      14.1135  &       13.469     &     1.048  &         0.485        &     -157.022    &      185.249     \\\\\n",
       "\\textbf{x5}    &      -0.8005  &        3.106     &    -0.258  &         0.839        &      -40.266    &       38.665     \\\\\n",
       "\\textbf{x6}    &       1.5727  &        3.475     &     0.453  &         0.729        &      -42.583    &       45.729     \\\\\n",
       "\\textbf{x7}    &      32.4926  &       41.262     &     0.787  &         0.575        &     -491.795    &      556.780     \\\\\n",
       "\\textbf{x8}    &      36.1394  &       42.669     &     0.847  &         0.553        &     -506.022    &      578.301     \\\\\n",
       "\\textbf{x9}    &     -38.3551  &       43.625     &    -0.879  &         0.541        &     -592.668    &      515.958     \\\\\n",
       "\\textbf{x10}   &      11.9707  &       17.482     &     0.685  &         0.618        &     -210.157    &      234.098     \\\\\n",
       "\\bottomrule\n",
       "\\end{tabular}\n",
       "\\begin{tabular}{lclc}\n",
       "\\textbf{Omnibus:}       &  0.259 & \\textbf{  Durbin-Watson:     } &    2.354  \\\\\n",
       "\\textbf{Prob(Omnibus):} &  0.879 & \\textbf{  Jarque-Bera (JB):  } &    0.413  \\\\\n",
       "\\textbf{Skew:}          &  0.212 & \\textbf{  Prob(JB):          } &    0.813  \\\\\n",
       "\\textbf{Kurtosis:}      &  2.196 & \\textbf{  Cond. No.          } &     382.  \\\\\n",
       "\\bottomrule\n",
       "\\end{tabular}\n",
       "%\\caption{OLS Regression Results}\n",
       "\\end{center}\n",
       "\n",
       "Notes: \\newline\n",
       " [1] Standard Errors assume that the covariance matrix of the errors is correctly specified."
      ],
      "text/plain": [
       "<class 'statsmodels.iolib.summary.Summary'>\n",
       "\"\"\"\n",
       "                            OLS Regression Results                            \n",
       "==============================================================================\n",
       "Dep. Variable:                      y   R-squared:                       0.990\n",
       "Model:                            OLS   Adj. R-squared:                  0.891\n",
       "Method:                 Least Squares   F-statistic:                     9.981\n",
       "Date:                Mon, 08 Sep 2025   Prob (F-statistic):              0.242\n",
       "Time:                        17:35:28   Log-Likelihood:                -9.9811\n",
       "No. Observations:                  12   AIC:                             41.96\n",
       "Df Residuals:                       1   BIC:                             47.30\n",
       "Df Model:                          10                                         \n",
       "Covariance Type:            nonrobust                                         \n",
       "==============================================================================\n",
       "                 coef    std err          t      P>|t|      [0.025      0.975]\n",
       "------------------------------------------------------------------------------\n",
       "const         17.4333      0.556     31.361      0.020      10.370      24.497\n",
       "x1            40.7571     54.010      0.755      0.588    -645.499     727.013\n",
       "x2            -2.4635      3.021     -0.815      0.565     -40.854      35.927\n",
       "x3           -10.1581     19.484     -0.521      0.694    -257.727     237.411\n",
       "x4            14.1135     13.469      1.048      0.485    -157.022     185.249\n",
       "x5            -0.8005      3.106     -0.258      0.839     -40.266      38.665\n",
       "x6             1.5727      3.475      0.453      0.729     -42.583      45.729\n",
       "x7            32.4926     41.262      0.787      0.575    -491.795     556.780\n",
       "x8            36.1394     42.669      0.847      0.553    -506.022     578.301\n",
       "x9           -38.3551     43.625     -0.879      0.541    -592.668     515.958\n",
       "x10           11.9707     17.482      0.685      0.618    -210.157     234.098\n",
       "==============================================================================\n",
       "Omnibus:                        0.259   Durbin-Watson:                   2.354\n",
       "Prob(Omnibus):                  0.879   Jarque-Bera (JB):                0.413\n",
       "Skew:                           0.212   Prob(JB):                        0.813\n",
       "Kurtosis:                       2.196   Cond. No.                         382.\n",
       "==============================================================================\n",
       "\n",
       "Notes:\n",
       "[1] Standard Errors assume that the covariance matrix of the errors is correctly specified.\n",
       "\"\"\""
      ]
     },
     "execution_count": 61,
     "metadata": {},
     "output_type": "execute_result"
    }
   ],
   "source": [
    "X_ols=sm.add_constant(Xscaled)\n",
    "ols = sm.OLS(ytrain, X_ols)\n",
    "results = ols.fit()\n",
    "results.summary()"
   ]
  },
  {
   "cell_type": "code",
   "execution_count": 65,
   "id": "6935b3be",
   "metadata": {},
   "outputs": [
    {
     "data": {
      "text/plain": [
       "-34.171529135996416"
      ]
     },
     "execution_count": 65,
     "metadata": {},
     "output_type": "execute_result"
    }
   ],
   "source": [
    "y_pred= results.predict(sm.add_constant(Xscaled2))\n",
    "r2=r2_score(ytest,y_pred)\n",
    "r2"
   ]
  },
  {
   "cell_type": "code",
   "execution_count": null,
   "id": "15ce1160",
   "metadata": {},
   "outputs": [],
   "source": []
  }
 ],
 "metadata": {
  "kernelspec": {
   "display_name": "Python 3 (ipykernel)",
   "language": "python",
   "name": "python3"
  },
  "language_info": {
   "codemirror_mode": {
    "name": "ipython",
    "version": 3
   },
   "file_extension": ".py",
   "mimetype": "text/x-python",
   "name": "python",
   "nbconvert_exporter": "python",
   "pygments_lexer": "ipython3",
   "version": "3.11.4"
  }
 },
 "nbformat": 4,
 "nbformat_minor": 5
}
