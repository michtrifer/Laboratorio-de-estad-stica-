{
 "cells": [
  {
   "cell_type": "code",
   "execution_count": 27,
   "id": "9f30c176",
   "metadata": {},
   "outputs": [],
   "source": [
    "import pandas as pd\n",
    "import numpy as np\n",
    "from sklearn.svm import SVC\n",
    "from sklearn.preprocessing import StandardScaler\n",
    "from sklearn.compose import ColumnTransformer\n",
    "from sklearn.model_selection import StratifiedKFold\n",
    "from sklearn.pipeline import Pipeline\n",
    "from sklearn.metrics import make_scorer, roc_auc_score\n",
    "from skopt import BayesSearchCV\n",
    "from skopt.space import Real\n",
    "import pandas as pd\n",
    "import numpy as np\n",
    "import matplotlib.pyplot as plt\n",
    "from sklearn.preprocessing import PolynomialFeatures\n",
    "from sklearn.linear_model import LinearRegression\n",
    "from sklearn.metrics import r2_score\n",
    "import statsmodels.api as sm\n",
    "from sklearn.model_selection import train_test_split\n",
    "from sklearn.preprocessing import StandardScaler\n",
    "from sklearn.linear_model import Ridge, Lasso\n",
    "from sklearn.compose import ColumnTransformer\n",
    "from sklearn.neural_network import MLPClassifier\n",
    "from sklearn.pipeline import Pipeline\n",
    "from sklearn.model_selection import cross_val_score\n",
    "from sklearn.model_selection import RandomizedSearchCV\n",
    "from sklearn.gaussian_process import GaussianProcessRegressor as GPR\n",
    "from sklearn.model_selection import GridSearchCV\n",
    "from sklearn.svm import SVC\n",
    "from sklearn.gaussian_process.kernels import RBF\n",
    "import warnings\n",
    "from sklearn.model_selection import cross_val_score, StratifiedKFold\n",
    "warnings.filterwarnings(\"ignore\")\n",
    "from sklearn.linear_model import LogisticRegression\n",
    "from sklearn.metrics import make_scorer, roc_auc_score"
   ]
  },
  {
   "cell_type": "markdown",
   "id": "23eff53f",
   "metadata": {},
   "source": [
    "SVC con kernel \"linear\" + Hiperparámetro \"c\""
   ]
  },
  {
   "cell_type": "code",
   "execution_count": 28,
   "id": "b3d4b1c4",
   "metadata": {},
   "outputs": [],
   "source": [
    "df = pd.read_csv('brain_tumor_dataset.csv')\n",
    "df=df.head(100)\n",
    "df['Gender'] = df['Gender'].map({'Male':0,'Female':1})\n",
    "df['Radiation_Treatment'] = df['Radiation_Treatment'].map({'No':0,'Yes':1})\n",
    "df['Surgery_Performed'] = df['Surgery_Performed'].map({'No':0,'Yes':1})\n",
    "df['Chemotherapy'] = df['Chemotherapy'].map({'No':0,'Yes':1})\n",
    "df['Family_History'] = df['Family_History'].map({'No':0,'Yes':1})\n",
    "df['MRI_Result'] = df['MRI_Result'].map({'Negative':0,'Positive':1})\n",
    "df['Follow_Up_Required'] = df['Follow_Up_Required'].map({'No':0,'Yes':1})"
   ]
  },
  {
   "cell_type": "code",
   "execution_count": 29,
   "id": "9d131805",
   "metadata": {},
   "outputs": [],
   "source": [
    "X=df.drop(columns=[\"Tumor_Type\",\"Patient_ID\"])\n",
    "X=pd.get_dummies(X, columns=['Location','Histology','Stage','Symptom_1','Symptom_2','Symptom_3'])\n",
    "y = df[\"Tumor_Type\"]"
   ]
  },
  {
   "cell_type": "code",
   "execution_count": null,
   "id": "9979189b",
   "metadata": {},
   "outputs": [],
   "source": [
    "# --- Preprocesamiento ---\n",
    "numerical_transformer = StandardScaler()\n",
    "numerical_features = X.columns\n",
    "preprocessor = ColumnTransformer(\n",
    "    transformers=[('num', numerical_transformer, numerical_features)]\n",
    ")\n",
    "\n",
    "# --- Modelo base ---\n",
    "svc = SVC(kernel='linear', probability=True)\n",
    "          \n",
    "# --- Pipeline --\n",
    "pipeline = Pipeline([\n",
    "    ('preprocessor', preprocessor),\n",
    "    ('model', svc)\n",
    "])\n",
    "\n",
    "# --- Validación cruzada ---\n",
    "cv = StratifiedKFold(n_splits=10, shuffle=True, random_state=1)\n",
    "\n",
    "# --- Espacio de búsqueda (C continuo) ---\n",
    "search_spaces = {\n",
    "    'model__C': Real(1e-3, 1e3, prior='log-uniform')\n",
    "}\n",
    "\n",
    "# --- Métrica AUC ---\n",
    "scorer = make_scorer(roc_auc_score, needs_proba=True, multi_class='ovr')\n",
    "\n",
    "# --- Búsqueda bayesiana ---\n",
    "opt = BayesSearchCV(\n",
    "    estimator=pipeline,\n",
    "    search_spaces=search_spaces,\n",
    "    scoring=scorer,\n",
    "    cv=cv,\n",
    "    n_iter=10,          # iteraciones\n",
    "    n_jobs=1,\n",
    "    random_state=42\n",
    ")\n",
    "\n",
    "# --- Entrenar ---\n",
    "opt.fit(X, y)\n",
    "\n",
    "# --- Resultados ---\n",
    "print(\"Mejor valor de C:\", opt.best_params_['model__C'])\n",
    "print(\"AUC promedio en CV:\", opt.best_score_)"
   ]
  },
  {
   "cell_type": "code",
   "execution_count": null,
   "id": "41393a40",
   "metadata": {},
   "outputs": [],
   "source": []
  },
  {
   "cell_type": "code",
   "execution_count": null,
   "id": "352424df",
   "metadata": {},
   "outputs": [],
   "source": []
  },
  {
   "cell_type": "code",
   "execution_count": null,
   "id": "550dd9df",
   "metadata": {},
   "outputs": [],
   "source": []
  }
 ],
 "metadata": {
  "kernelspec": {
   "display_name": "Python 3 (ipykernel)",
   "language": "python",
   "name": "python3"
  },
  "language_info": {
   "codemirror_mode": {
    "name": "ipython",
    "version": 3
   },
   "file_extension": ".py",
   "mimetype": "text/x-python",
   "name": "python",
   "nbconvert_exporter": "python",
   "pygments_lexer": "ipython3",
   "version": "3.11.4"
  }
 },
 "nbformat": 4,
 "nbformat_minor": 5
}
