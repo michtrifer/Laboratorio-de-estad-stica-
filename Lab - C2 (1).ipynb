{
 "cells": [
  {
   "cell_type": "markdown",
   "id": "c191c972-2c85-4284-a555-7db618ba5b26",
   "metadata": {},
   "source": [
    "# Laboratorio de regresión logística"
   ]
  },
  {
   "cell_type": "markdown",
   "id": "e11c177c-1848-44b0-8c6b-b35537b5ae2f",
   "metadata": {},
   "source": [
    "|                |   |\n",
    ":----------------|---|\n",
    "| **Nombre**     | Michelle Trigo  |\n",
    "| **Fecha**      | 08/10/2025  |\n",
    "| **Expediente** | 745567  | "
   ]
  },
  {
   "cell_type": "markdown",
   "id": "4b95344a-b10c-465d-a5f4-bfa65905420c",
   "metadata": {},
   "source": [
    "In machine learning, Support Vector Machines (SVM) are supervised learning models with associated learning algorithms that analyze data used for classification and regression analysis. It is mostly used in classification problems. In this algorithm, each data item is plotted as a point in p-dimensional space (where p is the number of features), with the value of each feature being the value of a particular coordinate. Then, classification is performed by finding the hyper-plane that best differentiates the two classes (or more if we have a multi class problem):\n",
    "\n",
    "$$ f(x) = w^T \\varphi(x) + b $$\n",
    "\n",
    "where $\\varphi: X \\rightarrow F $ is a function that makes each input point $x$ correspond to a point in F, where F is a Hilbert space.\n",
    "\n",
    "In addition to performing linear classification, SVMs can efficiently perform a non-linear classification, implicitly mapping their inputs into high-dimensional feature spaces (more specifically using the kernel trick, like the RBF funcion). \n",
    "\n",
    "[1]\n",
    "\n",
    "OLS utilizes the squared residuals to fit the parameters. Large residuals caused by outliers may worsen the accuracy significantly.\n",
    "\n",
    "Support Vectors use piecewise linear functions to counter this, in which a hyperparameter  $\\epsilon$ called the margin lets errors that are less or equal to it be 0, and error larger than it be $e - \\epsilon$. \n",
    "\n",
    "The problem to solve is:\n",
    "\n",
    "\\begin{split}\n",
    "        \\min_{w, b, \\xi, \\xi^*} \\mathcal{P}_\\epsilon(w, b, \\xi) &= \\frac{1}{2} w^T w + c \\sum_{k=1}^{N} \\xi_k \\\\\n",
    "        \\text{s.t. } & y_k [w^T \\varphi(x_k) - b] \\geq 1- \\xi_k,\\ \\ k = 1, ..., N \\\\\n",
    "        & \\xi_k \\geq 0,\\ \\ k = 1, ..., N\n",
    "\\end{split}\n",
    "\n",
    "\n",
    "The most important question that arises when using a SVM is how to choose the correct hyperplane. Consider the following scenarios:"
   ]
  },
  {
   "cell_type": "markdown",
   "id": "ffd4c629-c547-433d-90ff-852a1e722a95",
   "metadata": {},
   "source": [
    "### Scenario 1\n",
    "\n",
    "In this scenario there are three hyperplanes called A, B, and C. Now, the problem is to identify the hyperplane which best differentiates the stars and the circles.\n",
    "\n",
    "<center><img src=\"https://media.geeksforgeeks.org/wp-content/uploads/SVM_21-2.png\" alt=\"what image shows\"></center>\n",
    "\n",
    "In this case, hyperplane B separates the stars and the circle betters, hence it is the correct hyperplane.\n"
   ]
  },
  {
   "cell_type": "markdown",
   "id": "3d158b5b-99f1-435a-9b91-0d8a17363bce",
   "metadata": {},
   "source": [
    "### Scenario 2\n",
    "\n",
    "Now take another scenario where all three hyperplanes are segregating classes well. The question that arises is how to choose the best hyperplane in this situation.\n",
    "\n",
    "<center><img src=\"https://media.geeksforgeeks.org/wp-content/uploads/SVM_4-2.png\" alt=\"what image shows\"></center>\n",
    "\n",
    "In such scenarios, we calculate the margin (which is the distance between nearest data point and the hyperplane). The hyperplane with the largest margin will be considered as the correct hyperplane to classify the dataset.\n",
    "\n",
    "Here C has the largest margin. Hence, it is considered as the best hyperplane.\n"
   ]
  },
  {
   "cell_type": "markdown",
   "id": "d4ae4b6d-e3fe-4496-8f7a-242697fb058e",
   "metadata": {},
   "source": [
    "### Kernels\n",
    "Knowing \n",
    "$$ w = \\sum_{k=1}^{N} \\alpha_k y_k \\varphi(x_k) $$\n",
    "\n",
    "And\n",
    "$$ y_{pred} = w^T \\varphi(x) + b $$\n",
    "\n",
    "Then \n",
    "$$ y_{pred} = (\\sum_{k=1}^{N} \\alpha_k y_k \\varphi(x_k))^T \\varphi(x) + b $$\n",
    "\n",
    "Where $\\varphi$ is a function that makes each input in $x$ correspond to a point in $F$ (a Hilbert space). This can be seen as processing and transforming the input featuers to keep the model's convexity. [2]\n",
    "\n",
    "This also allows us to transform the inputs into another space where they might be more easily classified.\n",
    "\n",
    "<center><img src=https://miro.medium.com/max/838/1*gXvhD4IomaC9Jb37tzDUVg.png alt=\"what image shows\"></center>"
   ]
  },
  {
   "cell_type": "markdown",
   "id": "d8cdd455-cb0d-477c-84a8-326453792426",
   "metadata": {},
   "source": [
    "## ROC and AUC\n",
    "\n",
    "A ROC (Receiver Operating Characteristic) is a graph that shows how the classification model performs at the classification thresholds. \n",
    "\n",
    "ROC curves typically feature true positive rate on the Y axis, and false positive rate on the X axis. This means that the top left corner of the plot is the “ideal” point - a false positive rate of zero, and a true positive rate of one. This is not very realistic, but it does mean that a larger area under the curve (AUC) is usually better. [3]\n",
    "\n",
    "True Positive Rate is a synonym for Recall and defined as:\n",
    "$$ TPR = \\frac{TP}{TP + FN} $$\n",
    "\n",
    "False Positive Rate is a synonym for Specificity and defined as:\n",
    "\n",
    "$$ FPR = \\frac{FP}{FP + TN} $$\n",
    "\n",
    "ROC curves are typically used in binary classification to study the output of a classifier. In order to extend ROC curve and ROC area to multi-label classification, it is necessary to binarize the output. One ROC curve can be drawn per label, but one can also draw a ROC curve by considering each element of the label indicator matrix as a binary prediction (micro-averaging).\n",
    "\n",
    "E.g. If you lower a classification threshold, more items would be classified as positive, increasing False Positives and True Positives.\n",
    "\n",
    "AUC stands for Area under the ROC."
   ]
  },
  {
   "cell_type": "code",
   "execution_count": 2,
   "id": "bedc1178",
   "metadata": {},
   "outputs": [],
   "source": [
    "import pandas as pd\n",
    "import numpy as np\n",
    "import matplotlib.pyplot as plt\n",
    "from sklearn.preprocessing import PolynomialFeatures\n",
    "from sklearn.linear_model import LinearRegression\n",
    "from sklearn.metrics import r2_score\n",
    "import statsmodels.api as sm\n",
    "from sklearn.model_selection import train_test_split\n",
    "from sklearn.preprocessing import StandardScaler\n",
    "from sklearn.linear_model import Ridge, Lasso\n",
    "from sklearn.linear_model import LogisticRegression\n",
    "from sklearn.svm import SVC\n",
    "from sklearn.model_selection import cross_val_score"
   ]
  },
  {
   "cell_type": "markdown",
   "id": "3ce8fe3e-dca0-4f66-94c6-18f3545cb865",
   "metadata": {},
   "source": [
    "## Ejercicio 1"
   ]
  },
  {
   "cell_type": "markdown",
   "id": "ca93403a-dc07-4059-8e97-991e98d8caf4",
   "metadata": {},
   "source": [
    "- Utiliza el dataset `Iris`, modela con SVC y haz Cross-Validation de diferentes kernels ('linear', 'poly', 'rbf', 'sigmoid').\n",
    "- Modela con LogisticRegression.\n",
    "- El método de Cross-Validation es K-Folds con $k=10$.\n",
    "- Utiliza el AUC como métrico de Cross-Validation.\n",
    "- Compara resultados."
   ]
  },
  {
   "cell_type": "code",
   "execution_count": 4,
   "id": "dedae7bb-ce63-4f38-aeb1-353c7f579909",
   "metadata": {},
   "outputs": [],
   "source": [
    "from sklearn.svm import SVC\n",
    "from sklearn.datasets import load_iris \n",
    "from sklearn.model_selection import cross_val_score"
   ]
  },
  {
   "cell_type": "code",
   "execution_count": 4,
   "id": "7cf935dc-8d6b-4503-8ba3-90d9d55fef20",
   "metadata": {},
   "outputs": [],
   "source": [
    "load_iris?"
   ]
  },
  {
   "cell_type": "markdown",
   "id": "0b268573",
   "metadata": {},
   "source": [
    "Utiliza el dataset Iris, modela con SVC y haz Cross-Validation de diferentes kernels ('linear', 'poly', 'rbf', 'sigmoid')."
   ]
  },
  {
   "cell_type": "code",
   "execution_count": 28,
   "id": "f3bafaff",
   "metadata": {},
   "outputs": [
    {
     "name": "stdout",
     "output_type": "stream",
     "text": [
      "Kernel: linear  | Accuracy promedio: 0.9800 | Desviación: 0.0163\n",
      "Kernel: poly    | Accuracy promedio: 0.9867 | Desviación: 0.0163\n",
      "Kernel: rbf     | Accuracy promedio: 0.9667 | Desviación: 0.0211\n",
      "Kernel: sigmoid | Accuracy promedio: 0.0667 | Desviación: 0.0596\n"
     ]
    }
   ],
   "source": [
    "iris = load_iris()\n",
    "X = iris.data\n",
    "y = iris.target\n",
    "\n",
    "kernels = ['linear', 'poly', 'rbf', 'sigmoid']\n",
    "\n",
    "for k in kernels:\n",
    "    model = SVC(kernel=k, degree=2)  \n",
    "    scores = cross_val_score(model, X, y, cv=5)  # 5-fold cross-validation\n",
    "    print(f\"Kernel: {k:7s} | Accuracy promedio: {scores.mean():.4f} | Desviación: {scores.std():.4f}\")"
   ]
  },
  {
   "cell_type": "markdown",
   "id": "4d94369d",
   "metadata": {},
   "source": [
    "Modela con LogisticRegression.\n"
   ]
  },
  {
   "cell_type": "code",
   "execution_count": 18,
   "id": "14d33fa8",
   "metadata": {},
   "outputs": [
    {
     "name": "stdout",
     "output_type": "stream",
     "text": [
      "Accuracy promedio: 0.9733333333333334\n"
     ]
    }
   ],
   "source": [
    "model = LogisticRegression(max_iter=200)\n",
    "scores = cross_val_score(model, X, y, cv=5)\n",
    "\n",
    "print(\"Accuracy promedio:\", scores.mean())"
   ]
  },
  {
   "cell_type": "markdown",
   "id": "c509719b",
   "metadata": {},
   "source": [
    "El método de Cross-Validation es K-Folds con $k=10$.\n"
   ]
  },
  {
   "cell_type": "code",
   "execution_count": 11,
   "id": "57dccef5",
   "metadata": {},
   "outputs": [],
   "source": [
    "from sklearn.model_selection import KFold, cross_val_score"
   ]
  },
  {
   "cell_type": "code",
   "execution_count": 25,
   "id": "2bd8a55c",
   "metadata": {},
   "outputs": [
    {
     "name": "stdout",
     "output_type": "stream",
     "text": [
      "Accuracy promedio: 0.9733333333333334\n",
      "Desviación estándar: 0.04422166387140532\n"
     ]
    }
   ],
   "source": [
    "kf = KFold(n_splits=10, shuffle=True, random_state=42)\n",
    "\n",
    "model = LogisticRegression(max_iter=200)\n",
    "\n",
    "scores = cross_val_score(model, X, y, cv=kf)\n",
    "\n",
    "print(\"Accuracy promedio:\",scores.mean())\n",
    "print(\"Desviación estándar:\",scores.std())"
   ]
  },
  {
   "cell_type": "markdown",
   "id": "a0c0973c",
   "metadata": {},
   "source": [
    "Utiliza el AUC como métrico de Cross-Validation.\n"
   ]
  },
  {
   "cell_type": "code",
   "execution_count": 26,
   "id": "a46e6e1a",
   "metadata": {},
   "outputs": [
    {
     "name": "stdout",
     "output_type": "stream",
     "text": [
      "AUC promedio: 0.9974126182459516\n",
      "Desviación estándar:  0.005187479633482653\n"
     ]
    }
   ],
   "source": [
    "scores = cross_val_score(\n",
    "    model, X, y, cv=kf, scoring='roc_auc_ovr'\n",
    ")\n",
    "\n",
    "print(\"AUC promedio:\",scores.mean())\n",
    "print(\"Desviación estándar: \",scores.std())"
   ]
  },
  {
   "cell_type": "markdown",
   "id": "bd5ac8ac",
   "metadata": {},
   "source": [
    "Compara resultados"
   ]
  },
  {
   "cell_type": "markdown",
   "id": "674c7551",
   "metadata": {},
   "source": [
    "Tanto los SVM como la regresión logística clasifican muy bien el dataset, con accuracies alrededor de 0.97–0.99; el kernel polinómico del SVM fue el más preciso, seguido del lineal y RBF, mientras que el kernel sigmoid no funciona. \n",
    "\n",
    "La regresión logística con K-Folds 10 también mostró un desempeño excelente y estable, y al medirlo con AUC alcanzó casi 1.0, lo que indica que separa casi perfectamente las tres clases de flores.\n"
   ]
  },
  {
   "cell_type": "markdown",
   "id": "c7e26d1b-1bd2-4839-a743-a63f6b258a42",
   "metadata": {},
   "source": [
    "## Ejercicio 2\n",
    "- Repite el ejercicio 1 con el dataset `Default`. Utiliza `default` como target."
   ]
  },
  {
   "cell_type": "code",
   "execution_count": 5,
   "id": "ea0bb2af-09ae-4056-aa6f-f15289ae1f0d",
   "metadata": {},
   "outputs": [
    {
     "data": {
      "text/html": [
       "<div>\n",
       "<style scoped>\n",
       "    .dataframe tbody tr th:only-of-type {\n",
       "        vertical-align: middle;\n",
       "    }\n",
       "\n",
       "    .dataframe tbody tr th {\n",
       "        vertical-align: top;\n",
       "    }\n",
       "\n",
       "    .dataframe thead th {\n",
       "        text-align: right;\n",
       "    }\n",
       "</style>\n",
       "<table border=\"1\" class=\"dataframe\">\n",
       "  <thead>\n",
       "    <tr style=\"text-align: right;\">\n",
       "      <th></th>\n",
       "      <th>default</th>\n",
       "      <th>student</th>\n",
       "      <th>balance</th>\n",
       "      <th>income</th>\n",
       "    </tr>\n",
       "  </thead>\n",
       "  <tbody>\n",
       "    <tr>\n",
       "      <th>0</th>\n",
       "      <td>No</td>\n",
       "      <td>No</td>\n",
       "      <td>729.526495</td>\n",
       "      <td>44361.625074</td>\n",
       "    </tr>\n",
       "    <tr>\n",
       "      <th>1</th>\n",
       "      <td>No</td>\n",
       "      <td>Yes</td>\n",
       "      <td>817.180407</td>\n",
       "      <td>12106.134700</td>\n",
       "    </tr>\n",
       "    <tr>\n",
       "      <th>2</th>\n",
       "      <td>No</td>\n",
       "      <td>No</td>\n",
       "      <td>1073.549164</td>\n",
       "      <td>31767.138950</td>\n",
       "    </tr>\n",
       "    <tr>\n",
       "      <th>3</th>\n",
       "      <td>No</td>\n",
       "      <td>No</td>\n",
       "      <td>529.250605</td>\n",
       "      <td>35704.493940</td>\n",
       "    </tr>\n",
       "    <tr>\n",
       "      <th>4</th>\n",
       "      <td>No</td>\n",
       "      <td>No</td>\n",
       "      <td>785.655883</td>\n",
       "      <td>38463.495880</td>\n",
       "    </tr>\n",
       "  </tbody>\n",
       "</table>\n",
       "</div>"
      ],
      "text/plain": [
       "  default student      balance        income\n",
       "0      No      No   729.526495  44361.625074\n",
       "1      No     Yes   817.180407  12106.134700\n",
       "2      No      No  1073.549164  31767.138950\n",
       "3      No      No   529.250605  35704.493940\n",
       "4      No      No   785.655883  38463.495880"
      ]
     },
     "execution_count": 5,
     "metadata": {},
     "output_type": "execute_result"
    }
   ],
   "source": [
    "df = pd.read_csv(\"Default.csv\")\n",
    "df.head()"
   ]
  },
  {
   "cell_type": "markdown",
   "id": "2bd1767d",
   "metadata": {},
   "source": [
    "Haz Cross-Validation de diferentes kernels ('linear', 'poly', 'rbf', 'sigmoid')."
   ]
  },
  {
   "cell_type": "code",
   "execution_count": 6,
   "id": "44c9b2d2-236f-4a1e-b9dc-fabe78fd8332",
   "metadata": {},
   "outputs": [],
   "source": [
    "# Convertir variables categóricas a numéricas\n",
    "df['default'] = df['default'].map({'No':0,'Yes':1})\n",
    "df['student'] = df['student'].map({'No':0,'Yes':1})\n",
    "\n",
    "# Separar X y y\n",
    "X = df.drop(columns=['default'])\n",
    "y = df['default']\n",
    "\n",
    "# Escalar\n",
    "scaler = StandardScaler()\n",
    "X_scaled = scaler.fit_transform(X)"
   ]
  },
  {
   "cell_type": "code",
   "execution_count": 7,
   "id": "0f51dd70-7125-4c3f-a5f3-0f2e56cea8da",
   "metadata": {},
   "outputs": [
    {
     "name": "stdout",
     "output_type": "stream",
     "text": [
      "Kernel: linear  | Accuracy promedio: 0.9667 | Desviación: 0.0002\n",
      "Kernel: poly    | Accuracy promedio: 0.9694 | Desviación: 0.0010\n",
      "Kernel: rbf     | Accuracy promedio: 0.9716 | Desviación: 0.0017\n",
      "Kernel: sigmoid | Accuracy promedio: 0.9536 | Desviación: 0.0033\n"
     ]
    }
   ],
   "source": [
    "kernels = ['linear', 'poly', 'rbf', 'sigmoid']\n",
    "\n",
    "for k in kernels:\n",
    "    model = SVC(kernel=k, degree=2)  # degree solo aplica al 'poly'\n",
    "    scores = cross_val_score(model, X_scaled, y, cv=5)  # 5-fold por el tamaño del dataset\n",
    "    print(f\"Kernel: {k:7s} | Accuracy promedio: {scores.mean():.4f} | Desviación: {scores.std():.4f}\")"
   ]
  },
  {
   "cell_type": "markdown",
   "id": "5287424c",
   "metadata": {},
   "source": [
    "Modela con LogisticRegression."
   ]
  },
  {
   "cell_type": "code",
   "execution_count": 8,
   "id": "0df5c690",
   "metadata": {},
   "outputs": [
    {
     "name": "stdout",
     "output_type": "stream",
     "text": [
      "Accuracy promedio: 0.9731\n",
      "Desviación: 0.0014282856857085744\n"
     ]
    }
   ],
   "source": [
    "model = LogisticRegression(max_iter=200)\n",
    "scores = cross_val_score(model, X_scaled, y, cv=5)\n",
    "\n",
    "print(\"Accuracy promedio:\", scores.mean())\n",
    "print(\"Desviación:\", scores.std())"
   ]
  },
  {
   "cell_type": "markdown",
   "id": "7523ee41",
   "metadata": {},
   "source": [
    "El método de Cross-Validation es K-Folds con  𝑘=10"
   ]
  },
  {
   "cell_type": "code",
   "execution_count": 12,
   "id": "84955790",
   "metadata": {},
   "outputs": [
    {
     "name": "stdout",
     "output_type": "stream",
     "text": [
      "Accuracy promedio: 0.9733\n",
      "Desviación estándar: 0.006165225056719346\n"
     ]
    }
   ],
   "source": [
    "kf = KFold(n_splits=10, shuffle=True, random_state=42)\n",
    "\n",
    "model = LogisticRegression(max_iter=200)\n",
    "\n",
    "scores = cross_val_score(model, X_scaled, y, cv=kf)\n",
    "\n",
    "print(\"Accuracy promedio:\",scores.mean())\n",
    "print(\"Desviación estándar:\",scores.std())"
   ]
  },
  {
   "cell_type": "markdown",
   "id": "21ef246a",
   "metadata": {},
   "source": [
    "Utiliza el AUC como métrico de Cross-Validation."
   ]
  },
  {
   "cell_type": "code",
   "execution_count": 13,
   "id": "81d877bf",
   "metadata": {},
   "outputs": [
    {
     "name": "stdout",
     "output_type": "stream",
     "text": [
      "AUC promedio: 0.9490942119736451\n",
      "Desviación estándar:  0.01705436005004184\n"
     ]
    }
   ],
   "source": [
    "scores = cross_val_score(model, X_scaled, y, cv=kf, scoring='roc_auc')\n",
    "\n",
    "print(\"AUC promedio:\",scores.mean())\n",
    "print(\"Desviación estándar: \",scores.std())"
   ]
  },
  {
   "cell_type": "markdown",
   "id": "821172c1",
   "metadata": {},
   "source": [
    "Compara resultados."
   ]
  },
  {
   "cell_type": "markdown",
   "id": "cd209663",
   "metadata": {},
   "source": [
    "Para el dataset Default, la regresión logística es el modelo más apto, con un accuracy promedio de 0.9731 y un rendimiento estable usando K-Folds, mostrando también un AUC alto (0.9491) que indica buena capacidad de separar clientes que pagan de los que no. Entre los SVM, el kernel RBF es el más preciso (accuracy 0.9716), seguido de Poly y Linear, mientras que Sigmoid funciona peor. En general, todos los modelos distinguen bastante bien las clases, pero la regresión logística combina precisión, estabilidad y simplicidad, haciéndola la opción más recomendable.\n"
   ]
  },
  {
   "cell_type": "markdown",
   "id": "138473b9-3a81-43cb-83a5-a362e535b736",
   "metadata": {},
   "source": [
    "# Addendum\n",
    "\n",
    "Métricos disponibles para clasificación:\n",
    "- ‘accuracy’\n",
    "- ‘balanced_accuracy’\n",
    "- ‘top_k_accuracy’\n",
    "- ‘average_precision’\n",
    "- ‘neg_brier_score’\n",
    "- ‘f1’\n",
    "- ‘f1_micro’\n",
    "- ‘f1_macro’\n",
    "- ‘f1_weighted’\n",
    "- ‘f1_samples’\n",
    "- ‘neg_log_loss’\n",
    "- ‘precision’ etc.\n",
    "- ‘recall’ etc.\n",
    "- ‘jaccard’ etc.\n",
    "- ‘roc_auc’\n",
    "- ‘roc_auc_ovr’\n",
    "- ‘roc_auc_ovo’\n",
    "- ‘roc_auc_ovr_weighted’\n",
    "- ‘roc_auc_ovo_weighted’\n",
    "- ‘d2_log_loss_score’"
   ]
  },
  {
   "cell_type": "markdown",
   "id": "e68a114d-84df-46fc-b1fb-4729410bdb5f",
   "metadata": {},
   "source": [
    "# References\n",
    "\n",
    "[1] Shigeo Abe.Support Vector Machines for Pattern Classification,2Ed.Springer-Verlag London,2010. ISBN978-1-84996-097-7. URLhttps://www.springer.com/gp/book/9781849960977.\n",
    "\n",
    "[2] Johan A K Suykens, Tony Van Gestel, Jos De Brabanter, BartDe Moor, and Joos Vandewalle.Least Squares Support VectorMachines. World Scientific,2002. ISBN9789812381514. URLhttps://www.worldscientific.com/worldscibooks/10.1142/5089.\n",
    "\n",
    "[3] Bradley, A. P. (1997). The use of the area under the ROC curve in the evaluation of machine learning algorithms. Pattern recognition, 30(7), 1145-1159. URL https://www.researchgate.net/post/how_can_I_interpret_the_ROC_curve_result"
   ]
  }
 ],
 "metadata": {
  "kernelspec": {
   "display_name": "Python 3 (ipykernel)",
   "language": "python",
   "name": "python3"
  },
  "language_info": {
   "codemirror_mode": {
    "name": "ipython",
    "version": 3
   },
   "file_extension": ".py",
   "mimetype": "text/x-python",
   "name": "python",
   "nbconvert_exporter": "python",
   "pygments_lexer": "ipython3",
   "version": "3.11.4"
  }
 },
 "nbformat": 4,
 "nbformat_minor": 5
}
